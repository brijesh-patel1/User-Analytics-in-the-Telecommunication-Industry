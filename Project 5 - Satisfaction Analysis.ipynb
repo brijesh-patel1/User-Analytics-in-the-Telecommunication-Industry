{
 "cells": [
  {
   "cell_type": "code",
   "execution_count": 1,
   "id": "ce2f3973-5dd2-4db1-83ad-ed4cae1fbc96",
   "metadata": {},
   "outputs": [],
   "source": [
    "import pandas as pd\n",
    "import numpy as np\n",
    "from sklearn.preprocessing import StandardScaler\n",
    "from sklearn.cluster import KMeans\n",
    "from scipy.spatial.distance import euclidean"
   ]
  },
  {
   "cell_type": "code",
   "execution_count": 2,
   "id": "e3d7fc48-b1d7-49a3-a6a1-c9c657887c2b",
   "metadata": {},
   "outputs": [],
   "source": [
    "df = pd.read_csv('telcom_data.csv')"
   ]
  },
  {
   "cell_type": "code",
   "execution_count": 3,
   "id": "d2c366be-5ce4-4de9-a3ba-daec9f697c73",
   "metadata": {},
   "outputs": [],
   "source": [
    "df.columns = [col.strip().replace(' ', '_').replace('.', '') for col in df.columns]"
   ]
  },
  {
   "cell_type": "code",
   "execution_count": 4,
   "id": "452d12b6-4b76-4c7b-b794-75ed8de1ba53",
   "metadata": {},
   "outputs": [
    {
     "data": {
      "text/plain": [
       "(150001, 55)"
      ]
     },
     "execution_count": 4,
     "metadata": {},
     "output_type": "execute_result"
    }
   ],
   "source": [
    "df.shape"
   ]
  },
  {
   "cell_type": "code",
   "execution_count": 5,
   "id": "45a2ce2a-33d1-42c1-86f0-e2d09e440a41",
   "metadata": {},
   "outputs": [
    {
     "data": {
      "text/plain": [
       "Index(['Bearer_Id', 'Start', 'Start_ms', 'End', 'End_ms', 'Dur_(ms)', 'IMSI',\n",
       "       'MSISDN/Number', 'IMEI', 'Last_Location_Name', 'Avg_RTT_DL_(ms)',\n",
       "       'Avg_RTT_UL_(ms)', 'Avg_Bearer_TP_DL_(kbps)', 'Avg_Bearer_TP_UL_(kbps)',\n",
       "       'TCP_DL_Retrans_Vol_(Bytes)', 'TCP_UL_Retrans_Vol_(Bytes)',\n",
       "       'DL_TP_<_50_Kbps_(%)', '50_Kbps_<_DL_TP_<_250_Kbps_(%)',\n",
       "       '250_Kbps_<_DL_TP_<_1_Mbps_(%)', 'DL_TP_>_1_Mbps_(%)',\n",
       "       'UL_TP_<_10_Kbps_(%)', '10_Kbps_<_UL_TP_<_50_Kbps_(%)',\n",
       "       '50_Kbps_<_UL_TP_<_300_Kbps_(%)', 'UL_TP_>_300_Kbps_(%)',\n",
       "       'HTTP_DL_(Bytes)', 'HTTP_UL_(Bytes)', 'Activity_Duration_DL_(ms)',\n",
       "       'Activity_Duration_UL_(ms)', 'Dur_(ms)1', 'Handset_Manufacturer',\n",
       "       'Handset_Type', 'Nb_of_sec_with_125000B_<_Vol_DL',\n",
       "       'Nb_of_sec_with_1250B_<_Vol_UL_<_6250B',\n",
       "       'Nb_of_sec_with_31250B_<_Vol_DL_<_125000B',\n",
       "       'Nb_of_sec_with_37500B_<_Vol_UL',\n",
       "       'Nb_of_sec_with_6250B_<_Vol_DL_<_31250B',\n",
       "       'Nb_of_sec_with_6250B_<_Vol_UL_<_37500B',\n",
       "       'Nb_of_sec_with_Vol_DL_<_6250B', 'Nb_of_sec_with_Vol_UL_<_1250B',\n",
       "       'Social_Media_DL_(Bytes)', 'Social_Media_UL_(Bytes)',\n",
       "       'Google_DL_(Bytes)', 'Google_UL_(Bytes)', 'Email_DL_(Bytes)',\n",
       "       'Email_UL_(Bytes)', 'Youtube_DL_(Bytes)', 'Youtube_UL_(Bytes)',\n",
       "       'Netflix_DL_(Bytes)', 'Netflix_UL_(Bytes)', 'Gaming_DL_(Bytes)',\n",
       "       'Gaming_UL_(Bytes)', 'Other_DL_(Bytes)', 'Other_UL_(Bytes)',\n",
       "       'Total_UL_(Bytes)', 'Total_DL_(Bytes)'],\n",
       "      dtype='object')"
      ]
     },
     "execution_count": 5,
     "metadata": {},
     "output_type": "execute_result"
    }
   ],
   "source": [
    "df.columns"
   ]
  },
  {
   "cell_type": "markdown",
   "id": "a058dd34-1294-4508-9b1a-876755188721",
   "metadata": {},
   "source": [
    "#  --------------- Task 4.1 Configuration -----------------"
   ]
  },
  {
   "cell_type": "code",
   "execution_count": 6,
   "id": "55fe8182-28ec-445c-abf2-e05b7f8693d1",
   "metadata": {},
   "outputs": [],
   "source": [
    "# Select features for engagement and experience analysis\n",
    "engagement_features = ['Avg_Bearer_TP_DL_(kbps)', 'Avg_Bearer_TP_UL_(kbps)',\n",
    "                       'Activity_Duration_DL_(ms)', 'Activity_Duration_UL_(ms)']\n",
    "experience_features = ['Avg_RTT_DL_(ms)', 'Avg_RTT_UL_(ms)', 'TCP_DL_Retrans_Vol_(Bytes)',\n",
    "                       'TCP_UL_Retrans_Vol_(Bytes)', 'DL_TP_<_50_Kbps_(%)', 'UL_TP_<_10_Kbps_(%)']"
   ]
  },
  {
   "cell_type": "code",
   "execution_count": 7,
   "id": "d1c487d0-dc0c-4960-8587-7ce7b5cd2a6c",
   "metadata": {},
   "outputs": [],
   "source": [
    "from sklearn.impute import SimpleImputer\n",
    "\n",
    "# Impute missing values for engagement\n",
    "imp_eng = SimpleImputer(strategy='mean')\n",
    "engagement_data_imputed = imp_eng.fit_transform(df[engagement_features])\n",
    "scaler_eng = StandardScaler()\n",
    "scaled_engagement = scaler_eng.fit_transform(engagement_data_imputed)\n",
    "\n",
    "# Impute missing values for experience\n",
    "imp_exp = SimpleImputer(strategy='mean')\n",
    "experience_data_imputed = imp_exp.fit_transform(df[experience_features])\n",
    "scaler_exp = StandardScaler()\n",
    "scaled_experience = scaler_exp.fit_transform(experience_data_imputed)\n"
   ]
  },
  {
   "cell_type": "code",
   "execution_count": 8,
   "id": "33d5c170-4426-440d-8daf-93743005a473",
   "metadata": {},
   "outputs": [
    {
     "name": "stderr",
     "output_type": "stream",
     "text": [
      "C:\\ProgramData\\anaconda3\\Lib\\site-packages\\joblib\\externals\\loky\\backend\\context.py:136: UserWarning: Could not find the number of physical cores for the following reason:\n",
      "[WinError 2] The system cannot find the file specified\n",
      "Returning the number of logical cores instead. You can silence this warning by setting LOKY_MAX_CPU_COUNT to the number of cores you want to use.\n",
      "  warnings.warn(\n",
      "  File \"C:\\ProgramData\\anaconda3\\Lib\\site-packages\\joblib\\externals\\loky\\backend\\context.py\", line 257, in _count_physical_cores\n",
      "    cpu_info = subprocess.run(\n",
      "               ^^^^^^^^^^^^^^^\n",
      "  File \"C:\\ProgramData\\anaconda3\\Lib\\subprocess.py\", line 548, in run\n",
      "    with Popen(*popenargs, **kwargs) as process:\n",
      "         ^^^^^^^^^^^^^^^^^^^^^^^^^^^\n",
      "  File \"C:\\ProgramData\\anaconda3\\Lib\\subprocess.py\", line 1026, in __init__\n",
      "    self._execute_child(args, executable, preexec_fn, close_fds,\n",
      "  File \"C:\\ProgramData\\anaconda3\\Lib\\subprocess.py\", line 1538, in _execute_child\n",
      "    hp, ht, pid, tid = _winapi.CreateProcess(executable, args,\n",
      "                       ^^^^^^^^^^^^^^^^^^^^^^^^^^^^^^^^^^^^^^^\n"
     ]
    }
   ],
   "source": [
    "# Clustering\n",
    "from sklearn.cluster import KMeans\n",
    "\n",
    "kmeans_eng = KMeans(n_clusters=2, random_state=42)\n",
    "df['engagement_cluster'] = kmeans_eng.fit_predict(scaled_engagement)\n",
    "\n",
    "kmeans_exp = KMeans(n_clusters=2, random_state=42)\n",
    "df['experience_cluster'] = kmeans_exp.fit_predict(scaled_experience)"
   ]
  },
  {
   "cell_type": "code",
   "execution_count": 9,
   "id": "84dd6e04-3861-424e-8492-2b1dceed2cd4",
   "metadata": {},
   "outputs": [],
   "source": [
    "# Find centroids\n",
    "eng_centroids = kmeans_eng.cluster_centers_\n",
    "exp_centroids = kmeans_exp.cluster_centers_"
   ]
  },
  {
   "cell_type": "code",
   "execution_count": 10,
   "id": "152a1de9-e5e9-4832-b17c-b63d6db608c2",
   "metadata": {},
   "outputs": [],
   "source": [
    "# Assume lower average values = worse engagement/experience\n",
    "less_engaged_cluster = np.argmin(np.mean(eng_centroids, axis=1))\n",
    "worst_experience_cluster = np.argmax(np.mean(exp_centroids, axis=1))"
   ]
  },
  {
   "cell_type": "code",
   "execution_count": 11,
   "id": "2457c00b-8d90-49ca-99f1-aa06e6b38173",
   "metadata": {},
   "outputs": [],
   "source": [
    "# Engagement Score (distance from less engaged cluster)\n",
    "df['engagement_score'] = [euclidean(point, eng_centroids[less_engaged_cluster])\n",
    "                          for point in scaled_engagement]"
   ]
  },
  {
   "cell_type": "code",
   "execution_count": 12,
   "id": "efb0b7ef-2631-4776-bcd4-61ac252015ed",
   "metadata": {},
   "outputs": [],
   "source": [
    "# Experience Score (distance from worst experience cluster)\n",
    "df['experience_score'] = [euclidean(point, exp_centroids[worst_experience_cluster])\n",
    "                          for point in scaled_experience]"
   ]
  },
  {
   "cell_type": "markdown",
   "id": "bb088487-89d6-4d89-919b-83dc22e362f4",
   "metadata": {},
   "source": [
    "# -------- Task 4.2 - Satisfaction Score + Top 10 Customers -------"
   ]
  },
  {
   "cell_type": "code",
   "execution_count": 13,
   "id": "830015d4-6639-4913-995e-2cbba2612597",
   "metadata": {},
   "outputs": [
    {
     "name": "stdout",
     "output_type": "stream",
     "text": [
      "           Bearer_Id  satisfaction_score\n",
      "36181   1.304240e+19           97.031322\n",
      "76625   1.304240e+19           88.361635\n",
      "30155   7.349880e+18           86.731511\n",
      "67304   1.304240e+19           81.652014\n",
      "1491    1.304240e+19           77.449380\n",
      "35127   7.277830e+18           62.868172\n",
      "133262  1.304240e+19           60.656232\n",
      "29916   7.349880e+18           57.866765\n",
      "17894            NaN           49.969324\n",
      "5963    1.304240e+19           49.119320\n"
     ]
    }
   ],
   "source": [
    "# Satisfaction score: average of engagement and experience scores\n",
    "df['satisfaction_score'] = df[['engagement_score', 'experience_score']].mean(axis=1)\n",
    "\n",
    "# Top 10 satisfied customers\n",
    "top_10 = df.sort_values(by='satisfaction_score', ascending=False).head(10)\n",
    "print(top_10[['Bearer_Id', 'satisfaction_score']])\n"
   ]
  },
  {
   "cell_type": "markdown",
   "id": "8ddd8b96-edd6-4080-9e93-a0a1373676ca",
   "metadata": {},
   "source": [
    "# -------- Task 4.3 - Regression Model to Predict Satisfaction --------"
   ]
  },
  {
   "cell_type": "code",
   "execution_count": 14,
   "id": "24bf9c83-a021-4625-9415-c2b03abc193b",
   "metadata": {},
   "outputs": [
    {
     "name": "stdout",
     "output_type": "stream",
     "text": [
      "R² Score: 0.9625932887212284\n",
      "MSE: 0.09026168689379033\n"
     ]
    }
   ],
   "source": [
    "from sklearn.impute import SimpleImputer\n",
    "from sklearn.linear_model import LinearRegression\n",
    "from sklearn.model_selection import train_test_split\n",
    "from sklearn.metrics import mean_squared_error, r2_score\n",
    "\n",
    "# Combine engagement and experience features\n",
    "features = engagement_features + experience_features\n",
    "\n",
    "# Extract X and y\n",
    "X = df[features]\n",
    "y = df['satisfaction_score']\n",
    "\n",
    "# Impute missing values in X\n",
    "imputer = SimpleImputer(strategy='mean')\n",
    "X_imputed = imputer.fit_transform(X)\n",
    "\n",
    "# Train-test split\n",
    "X_train, X_test, y_train, y_test = train_test_split(X_imputed, y, test_size=0.2, random_state=42)\n",
    "\n",
    "# Train linear regression\n",
    "reg = LinearRegression()\n",
    "reg.fit(X_train, y_train)\n",
    "\n",
    "# Predict\n",
    "y_pred = reg.predict(X_test)\n",
    "\n",
    "# Evaluate\n",
    "print(\"R² Score:\", r2_score(y_test, y_pred))\n",
    "print(\"MSE:\", mean_squared_error(y_test, y_pred))\n"
   ]
  },
  {
   "cell_type": "markdown",
   "id": "ba1de857-b80c-44ec-a619-0b55244a4c9c",
   "metadata": {},
   "source": [
    "# -------- Task 4.4 - KMeans on Engagement & Experience Scores --------"
   ]
  },
  {
   "cell_type": "code",
   "execution_count": 19,
   "id": "88e963ca-af22-4e05-bea5-dce8c03865fc",
   "metadata": {},
   "outputs": [
    {
     "name": "stdout",
     "output_type": "stream",
     "text": [
      "KMeans(n_clusters=2, random_state=42)\n"
     ]
    }
   ],
   "source": [
    "kmeans_satisfaction = KMeans(n_clusters=2, random_state=42)\n",
    "df['satisfaction_cluster'] = kmeans_satisfaction.fit_predict(df[['engagement_score', 'experience_score']])\n",
    "print(kmeans_satisfaction)"
   ]
  },
  {
   "cell_type": "markdown",
   "id": "ea6fca82-672d-4c4a-ab12-ee06ce931109",
   "metadata": {},
   "source": [
    "# -------- Task 4.5 - Aggregate by Cluster --------"
   ]
  },
  {
   "cell_type": "code",
   "execution_count": 20,
   "id": "d4fb54fc-5906-464d-a481-d7a4bc832e1e",
   "metadata": {},
   "outputs": [
    {
     "name": "stdout",
     "output_type": "stream",
     "text": [
      "                      satisfaction_score  experience_score\n",
      "satisfaction_cluster                                      \n",
      "0                               0.721844          0.783201\n",
      "1                               4.641814          4.055313\n"
     ]
    }
   ],
   "source": [
    "cluster_summary = df.groupby('satisfaction_cluster')[['satisfaction_score', 'experience_score']].mean()\n",
    "print(cluster_summary)\n"
   ]
  },
  {
   "cell_type": "markdown",
   "id": "8f6d94b6-2def-4814-8bc9-57672ecd5c96",
   "metadata": {},
   "source": [
    "# -------- Task 4.6 - Export to MySQL --------"
   ]
  },
  {
   "cell_type": "code",
   "execution_count": 21,
   "id": "a49adf54-8f2b-47f7-bbfe-12f6efcd0441",
   "metadata": {},
   "outputs": [
    {
     "name": "stdout",
     "output_type": "stream",
     "text": [
      "Requirement already satisfied: pyodbc in c:\\programdata\\anaconda3\\lib\\site-packages (5.1.0)\n",
      "Requirement already satisfied: sqlalchemy in c:\\programdata\\anaconda3\\lib\\site-packages (2.0.34)\n",
      "Requirement already satisfied: typing-extensions>=4.6.0 in c:\\programdata\\anaconda3\\lib\\site-packages (from sqlalchemy) (4.11.0)\n",
      "Requirement already satisfied: greenlet!=0.4.17 in c:\\programdata\\anaconda3\\lib\\site-packages (from sqlalchemy) (3.0.1)\n",
      "Note: you may need to restart the kernel to use updated packages.\n"
     ]
    }
   ],
   "source": [
    "pip install pyodbc sqlalchemy"
   ]
  },
  {
   "cell_type": "code",
   "execution_count": 22,
   "id": "77073703-b1e5-4d16-9b20-c39448f15bb2",
   "metadata": {},
   "outputs": [
    {
     "name": "stdout",
     "output_type": "stream",
     "text": [
      "Requirement already satisfied: pymysql in c:\\programdata\\anaconda3\\lib\\site-packages (1.1.2)\n",
      "Note: you may need to restart the kernel to use updated packages.\n"
     ]
    }
   ],
   "source": [
    "pip install pymysql"
   ]
  },
  {
   "cell_type": "code",
   "execution_count": null,
   "id": "33788452-e061-4df2-9ef5-b4a1a1da4226",
   "metadata": {},
   "outputs": [],
   "source": []
  },
  {
   "cell_type": "code",
   "execution_count": null,
   "id": "eb1a3242-91b0-4d39-b466-1c787984e779",
   "metadata": {},
   "outputs": [],
   "source": []
  },
  {
   "cell_type": "code",
   "execution_count": null,
   "id": "683041c0-ab58-4ee5-a8f9-0af3d9fc9cb1",
   "metadata": {},
   "outputs": [],
   "source": []
  },
  {
   "cell_type": "code",
   "execution_count": null,
   "id": "3697f7d4-2325-4afb-9f21-55a0faab5dca",
   "metadata": {},
   "outputs": [],
   "source": []
  },
  {
   "cell_type": "markdown",
   "id": "b81718e3-782e-42e3-9495-5e317a0074c9",
   "metadata": {},
   "source": [
    "# -------- Task 4.7 - Model Deployment Tracking (Basic MLflow Example) --------"
   ]
  },
  {
   "cell_type": "code",
   "execution_count": null,
   "id": "17161dbe-7548-4d88-ac18-83d0da5e6c11",
   "metadata": {},
   "outputs": [],
   "source": []
  },
  {
   "cell_type": "code",
   "execution_count": null,
   "id": "d3c4b2c0-7749-41ac-b484-24f8680b9214",
   "metadata": {},
   "outputs": [],
   "source": []
  },
  {
   "cell_type": "code",
   "execution_count": null,
   "id": "3a462c18-f975-4e0b-b977-6cedaa67aaef",
   "metadata": {},
   "outputs": [],
   "source": []
  },
  {
   "cell_type": "code",
   "execution_count": null,
   "id": "b1995db0-5999-41e5-b1ef-e6bb8ca7a16a",
   "metadata": {},
   "outputs": [],
   "source": []
  },
  {
   "cell_type": "code",
   "execution_count": null,
   "id": "a17876b8-d741-4d22-b0fc-030b8474c4eb",
   "metadata": {},
   "outputs": [],
   "source": []
  }
 ],
 "metadata": {
  "kernelspec": {
   "display_name": "Python 3 (ipykernel)",
   "language": "python",
   "name": "python3"
  },
  "language_info": {
   "codemirror_mode": {
    "name": "ipython",
    "version": 3
   },
   "file_extension": ".py",
   "mimetype": "text/x-python",
   "name": "python",
   "nbconvert_exporter": "python",
   "pygments_lexer": "ipython3",
   "version": "3.12.7"
  }
 },
 "nbformat": 4,
 "nbformat_minor": 5
}
