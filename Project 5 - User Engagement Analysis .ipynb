{
 "cells": [
  {
   "cell_type": "code",
   "execution_count": 19,
   "id": "3fa1a945-4fc0-4c91-84ca-3dcbd02a9549",
   "metadata": {},
   "outputs": [],
   "source": [
    "import pandas as pd\n",
    "import numpy as np\n",
    "import matplotlib.pyplot as plt\n",
    "import seaborn as sns\n",
    "from sklearn.preprocessing import MinMaxScaler\n",
    "from sklearn.cluster import KMeans"
   ]
  },
  {
   "cell_type": "code",
   "execution_count": 20,
   "id": "48bdf536-a2a1-4e80-a85f-79976f759dec",
   "metadata": {},
   "outputs": [],
   "source": [
    "# Load dataset\n",
    "df = pd.read_csv('telcom_data.csv')"
   ]
  },
  {
   "cell_type": "code",
   "execution_count": 21,
   "id": "4a86b26f-9fe9-4be1-b4da-fb75ceb7d7c3",
   "metadata": {},
   "outputs": [],
   "source": [
    "df.columns = [col.strip().replace(' ', '_').replace('.', '') for col in df.columns]"
   ]
  },
  {
   "cell_type": "code",
   "execution_count": 22,
   "id": "de049bfc-0eea-4177-8c1d-c61d8f0000c5",
   "metadata": {},
   "outputs": [
    {
     "data": {
      "text/plain": [
       "(150001, 55)"
      ]
     },
     "execution_count": 22,
     "metadata": {},
     "output_type": "execute_result"
    }
   ],
   "source": [
    "df.shape"
   ]
  },
  {
   "cell_type": "code",
   "execution_count": 23,
   "id": "4bacd521-44f4-4206-8f69-6f2961388b12",
   "metadata": {},
   "outputs": [
    {
     "data": {
      "text/plain": [
       "Index(['Bearer_Id', 'Start', 'Start_ms', 'End', 'End_ms', 'Dur_(ms)', 'IMSI',\n",
       "       'MSISDN/Number', 'IMEI', 'Last_Location_Name', 'Avg_RTT_DL_(ms)',\n",
       "       'Avg_RTT_UL_(ms)', 'Avg_Bearer_TP_DL_(kbps)', 'Avg_Bearer_TP_UL_(kbps)',\n",
       "       'TCP_DL_Retrans_Vol_(Bytes)', 'TCP_UL_Retrans_Vol_(Bytes)',\n",
       "       'DL_TP_<_50_Kbps_(%)', '50_Kbps_<_DL_TP_<_250_Kbps_(%)',\n",
       "       '250_Kbps_<_DL_TP_<_1_Mbps_(%)', 'DL_TP_>_1_Mbps_(%)',\n",
       "       'UL_TP_<_10_Kbps_(%)', '10_Kbps_<_UL_TP_<_50_Kbps_(%)',\n",
       "       '50_Kbps_<_UL_TP_<_300_Kbps_(%)', 'UL_TP_>_300_Kbps_(%)',\n",
       "       'HTTP_DL_(Bytes)', 'HTTP_UL_(Bytes)', 'Activity_Duration_DL_(ms)',\n",
       "       'Activity_Duration_UL_(ms)', 'Dur_(ms)1', 'Handset_Manufacturer',\n",
       "       'Handset_Type', 'Nb_of_sec_with_125000B_<_Vol_DL',\n",
       "       'Nb_of_sec_with_1250B_<_Vol_UL_<_6250B',\n",
       "       'Nb_of_sec_with_31250B_<_Vol_DL_<_125000B',\n",
       "       'Nb_of_sec_with_37500B_<_Vol_UL',\n",
       "       'Nb_of_sec_with_6250B_<_Vol_DL_<_31250B',\n",
       "       'Nb_of_sec_with_6250B_<_Vol_UL_<_37500B',\n",
       "       'Nb_of_sec_with_Vol_DL_<_6250B', 'Nb_of_sec_with_Vol_UL_<_1250B',\n",
       "       'Social_Media_DL_(Bytes)', 'Social_Media_UL_(Bytes)',\n",
       "       'Google_DL_(Bytes)', 'Google_UL_(Bytes)', 'Email_DL_(Bytes)',\n",
       "       'Email_UL_(Bytes)', 'Youtube_DL_(Bytes)', 'Youtube_UL_(Bytes)',\n",
       "       'Netflix_DL_(Bytes)', 'Netflix_UL_(Bytes)', 'Gaming_DL_(Bytes)',\n",
       "       'Gaming_UL_(Bytes)', 'Other_DL_(Bytes)', 'Other_UL_(Bytes)',\n",
       "       'Total_UL_(Bytes)', 'Total_DL_(Bytes)'],\n",
       "      dtype='object')"
      ]
     },
     "execution_count": 23,
     "metadata": {},
     "output_type": "execute_result"
    }
   ],
   "source": [
    "df.columns"
   ]
  },
  {
   "cell_type": "code",
   "execution_count": 24,
   "id": "984c514a-e1d5-420a-a576-dd6330cb37d7",
   "metadata": {},
   "outputs": [],
   "source": [
    "# Convert columns to numeric as needed\n",
    "df['Dur_(ms)'] = pd.to_numeric(df['Dur_(ms)'], errors='coerce')\n",
    "df['Total_DL_(Bytes)'] = pd.to_numeric(df['Total_DL_(Bytes)'], errors='coerce')\n",
    "df['Total_UL_(Bytes)'] = pd.to_numeric(df['Total_UL_(Bytes)'], errors='coerce')\n",
    "\n",
    "# Aggregate metrics by MSISDN\n",
    "agg_df = df.groupby('MSISDN/Number').agg({\n",
    "    'Bearer_Id': 'count',\n",
    "    'Dur_(ms)': 'sum',\n",
    "    'Total_DL_(Bytes)': 'sum',\n",
    "    'Total_UL_(Bytes)': 'sum'\n",
    "}).rename(columns={\n",
    "    'Bearer_Id': 'session_count',\n",
    "    'Dur_(ms)': 'total_duration',\n",
    "    'Total_DL_(Bytes)': 'total_download',\n",
    "    'Total_UL_(Bytes)': 'total_upload'\n",
    "})\n",
    "\n",
    "agg_df['total_traffic'] = agg_df['total_download'] + agg_df['total_upload']"
   ]
  },
  {
   "cell_type": "code",
   "execution_count": 25,
   "id": "45268e4c-27a5-4e72-bc39-48ddc5cd25ea",
   "metadata": {},
   "outputs": [
    {
     "name": "stdout",
     "output_type": "stream",
     "text": [
      "Top 10 by Session Count:\n",
      "               session_count  total_duration  total_download  total_upload  \\\n",
      "MSISDN/Number                                                                \n",
      "3.362632e+10              18       8791927.0    7.301517e+09   669650721.0   \n",
      "3.362578e+10              17      18553754.0    7.770043e+09   729577380.0   \n",
      "3.361489e+10              17       9966898.0    8.156743e+09   689483001.0   \n",
      "3.365973e+10              16       4035428.0    7.081602e+09   624260321.0   \n",
      "3.367588e+10              15       4865947.0    7.309542e+09   581568792.0   \n",
      "3.376054e+10              15       9279434.0    7.811295e+09   703478581.0   \n",
      "3.366716e+10              13       8744914.0    5.052068e+09   566326364.0   \n",
      "3.376041e+10              12       5321667.0    6.610852e+09   521518890.0   \n",
      "3.360452e+10              12       5207990.0    5.096079e+09   391775856.0   \n",
      "3.360313e+10              12       6287761.0    4.540607e+09   435587631.0   \n",
      "\n",
      "               total_traffic  \n",
      "MSISDN/Number                 \n",
      "3.362632e+10    7.971167e+09  \n",
      "3.362578e+10    8.499621e+09  \n",
      "3.361489e+10    8.846226e+09  \n",
      "3.365973e+10    7.705863e+09  \n",
      "3.367588e+10    7.891111e+09  \n",
      "3.376054e+10    8.514774e+09  \n",
      "3.366716e+10    5.618394e+09  \n",
      "3.376041e+10    7.132371e+09  \n",
      "3.360452e+10    5.487855e+09  \n",
      "3.360313e+10    4.976195e+09  \n",
      "\n",
      "Top 10 by Total Duration:\n",
      "               session_count  total_duration  total_download  total_upload  \\\n",
      "MSISDN/Number                                                                \n",
      "3.362578e+10              17      18553754.0    7.770043e+09   729577380.0   \n",
      "3.361489e+10              17       9966898.0    8.156743e+09   689483001.0   \n",
      "3.376054e+10              15       9279434.0    7.811295e+09   703478581.0   \n",
      "3.362632e+10              18       8791927.0    7.301517e+09   669650721.0   \n",
      "3.366716e+10              13       8744914.0    5.052068e+09   566326364.0   \n",
      "3.366284e+10               9       6614270.0    3.593674e+09   406424372.0   \n",
      "3.366469e+10               9       6288730.0    5.279827e+09   402180804.0   \n",
      "3.360313e+10              12       6287761.0    4.540607e+09   435587631.0   \n",
      "3.366746e+10               6       5649882.0    2.334299e+09   266222647.0   \n",
      "3.376041e+10              12       5321667.0    6.610852e+09   521518890.0   \n",
      "\n",
      "               total_traffic  \n",
      "MSISDN/Number                 \n",
      "3.362578e+10    8.499621e+09  \n",
      "3.361489e+10    8.846226e+09  \n",
      "3.376054e+10    8.514774e+09  \n",
      "3.362632e+10    7.971167e+09  \n",
      "3.366716e+10    5.618394e+09  \n",
      "3.366284e+10    4.000098e+09  \n",
      "3.366469e+10    5.682007e+09  \n",
      "3.360313e+10    4.976195e+09  \n",
      "3.366746e+10    2.600522e+09  \n",
      "3.376041e+10    7.132371e+09  \n",
      "\n",
      "Top 10 by Total Traffic:\n",
      "               session_count  total_duration  total_download  total_upload  \\\n",
      "MSISDN/Number                                                                \n",
      "3.361489e+10              17       9966898.0    8.156743e+09   689483001.0   \n",
      "3.376054e+10              15       9279434.0    7.811295e+09   703478581.0   \n",
      "3.362578e+10              17      18553754.0    7.770043e+09   729577380.0   \n",
      "3.362632e+10              18       8791927.0    7.301517e+09   669650721.0   \n",
      "3.367588e+10              15       4865947.0    7.309542e+09   581568792.0   \n",
      "3.365973e+10              16       4035428.0    7.081602e+09   624260321.0   \n",
      "3.366646e+10              11       4536757.0    6.903440e+09   405060976.0   \n",
      "3.376041e+10              12       5321667.0    6.610852e+09   521518890.0   \n",
      "3.366471e+10              11       2927785.0    6.400774e+09   471244453.0   \n",
      "3.369879e+10              11       5169128.0    6.010556e+09   530343105.0   \n",
      "\n",
      "               total_traffic  \n",
      "MSISDN/Number                 \n",
      "3.361489e+10    8.846226e+09  \n",
      "3.376054e+10    8.514774e+09  \n",
      "3.362578e+10    8.499621e+09  \n",
      "3.362632e+10    7.971167e+09  \n",
      "3.367588e+10    7.891111e+09  \n",
      "3.365973e+10    7.705863e+09  \n",
      "3.366646e+10    7.308501e+09  \n",
      "3.376041e+10    7.132371e+09  \n",
      "3.366471e+10    6.872018e+09  \n",
      "3.369879e+10    6.540899e+09  \n"
     ]
    }
   ],
   "source": [
    "# Top 10 users per metric\n",
    "print(\"Top 10 by Session Count:\")\n",
    "print(agg_df.sort_values('session_count', ascending=False).head(10))\n",
    "\n",
    "print(\"\\nTop 10 by Total Duration:\")\n",
    "print(agg_df.sort_values('total_duration', ascending=False).head(10))\n",
    "\n",
    "print(\"\\nTop 10 by Total Traffic:\")\n",
    "print(agg_df.sort_values('total_traffic', ascending=False).head(10))"
   ]
  },
  {
   "cell_type": "code",
   "execution_count": 26,
   "id": "adff5159-75b2-4ca5-aae5-7bea213bb3c2",
   "metadata": {},
   "outputs": [],
   "source": [
    "# Normalize for clustering\n",
    "scaler = MinMaxScaler()\n",
    "scaled = scaler.fit_transform(agg_df[['session_count', 'total_duration', 'total_traffic']])"
   ]
  },
  {
   "cell_type": "code",
   "execution_count": 27,
   "id": "b0307c94-09b1-4067-b5f7-2ad2c7fef986",
   "metadata": {},
   "outputs": [],
   "source": [
    "# KMeans Clustering (k=3)\n",
    "kmeans = KMeans(n_clusters=3, random_state=42)\n",
    "agg_df['cluster'] = kmeans.fit_predict(scaled)"
   ]
  },
  {
   "cell_type": "code",
   "execution_count": 28,
   "id": "c27180c6-0190-4225-88cd-8037bcd912b5",
   "metadata": {},
   "outputs": [
    {
     "name": "stdout",
     "output_type": "stream",
     "text": [
      "\n",
      "Cluster Summary:\n",
      "        session_count                      total_duration              \\\n",
      "                  min max      mean    sum            min         max   \n",
      "cluster                                                                 \n",
      "0                   1   4  2.184791  46228        18235.0   3174824.0   \n",
      "1                   3  18  4.258194  17020        49323.0  18553754.0   \n",
      "2                   0   2  1.043550  85258         7142.0   1573420.0   \n",
      "\n",
      "                                     total_traffic                \\\n",
      "                  mean           sum           min           max   \n",
      "cluster                                                            \n",
      "0        215100.806229  4.551318e+09  2.842182e+08  1.915933e+09   \n",
      "1        572159.112084  2.286920e+09  1.085994e+09  8.846226e+09   \n",
      "2        107473.680857  8.780600e+09  3.324901e+07  1.427100e+09   \n",
      "\n",
      "                                     \n",
      "                 mean           sum  \n",
      "cluster                              \n",
      "0        1.138979e+09  2.409966e+13  \n",
      "1        2.294204e+09  9.169934e+12  \n",
      "2        4.964976e+08  4.056385e+13  \n"
     ]
    }
   ],
   "source": [
    "# Cluster statistics\n",
    "cluster_summary = agg_df.groupby('cluster')[['session_count', 'total_duration', 'total_traffic']].agg(['min', 'max', 'mean', 'sum'])\n",
    "print(\"\\nCluster Summary:\")\n",
    "print(cluster_summary)\n"
   ]
  },
  {
   "cell_type": "code",
   "execution_count": 29,
   "id": "880a134d-0f09-4efe-a830-1fec593738fd",
   "metadata": {},
   "outputs": [],
   "source": [
    "# Per-application traffic aggregation\n",
    "apps = ['Social_Media', 'Google', 'Email', 'Youtube', 'Netflix', 'Gaming', 'Other']\n",
    "for app in apps:\n",
    "    df[f'{app}_total'] = pd.to_numeric(df[f'{app}_DL_(Bytes)'], errors='coerce') + pd.to_numeric(df[f'{app}_UL_(Bytes)'], errors='coerce')\n",
    "\n",
    "app_traffic_df = df.groupby('MSISDN/Number')[[f'{app}_total' for app in apps]].sum()\n"
   ]
  },
  {
   "cell_type": "code",
   "execution_count": 30,
   "id": "494e5c99-17ac-4347-a271-e4ba25db5d6d",
   "metadata": {},
   "outputs": [
    {
     "name": "stdout",
     "output_type": "stream",
     "text": [
      "\n",
      "Top 10 Users per Application:\n",
      "               Social_Media_total  Google_total  Email_total  Youtube_total  \\\n",
      "MSISDN/Number                                                                 \n",
      "3.360313e+10           23077825.0           NaN          NaN    284090139.0   \n",
      "3.361489e+10           28294544.0   127973787.0   40788634.0    394370218.0   \n",
      "3.362578e+10           27135500.0   142307915.0   40633966.0    452958769.0   \n",
      "3.362632e+10           43374779.0   152191852.0   42418782.0    374483047.0   \n",
      "3.362695e+10                  NaN           NaN          NaN            NaN   \n",
      "3.362708e+10                  NaN           NaN          NaN    308790774.0   \n",
      "3.365836e+10                  NaN           NaN          NaN            NaN   \n",
      "3.365849e+10           23000066.0           NaN          NaN            NaN   \n",
      "3.365973e+10           35412358.0   116516345.0   35999792.0            NaN   \n",
      "3.366471e+10                  NaN           NaN          NaN            NaN   \n",
      "3.366546e+10                  NaN           NaN   30417885.0            NaN   \n",
      "3.366646e+10                  NaN           NaN          NaN            NaN   \n",
      "3.366716e+10           24247850.0   105032696.0   30335796.0    315231310.0   \n",
      "3.366907e+10           23800834.0           NaN          NaN            NaN   \n",
      "3.367588e+10                  NaN   109860502.0   31514421.0    317410572.0   \n",
      "3.369876e+10                  NaN    91935151.0          NaN            NaN   \n",
      "3.369879e+10                  NaN           NaN   29059042.0    302661958.0   \n",
      "3.376041e+10                  NaN           NaN          NaN    303169107.0   \n",
      "3.376054e+10           39783189.0   123223099.0   33693767.0    396289198.0   \n",
      "3.376127e+10                  NaN    97089988.0          NaN            NaN   \n",
      "3.378632e+10           23974919.0   110254484.0   36310123.0            NaN   \n",
      "\n",
      "               Netflix_total  Gaming_total   Other_total  \n",
      "MSISDN/Number                                             \n",
      "3.360313e+10             NaN           NaN  6.326671e+09  \n",
      "3.361489e+10     361401046.0  7.749432e+09  7.639264e+09  \n",
      "3.362578e+10     356980607.0  7.326673e+09  6.354583e+09  \n",
      "3.362632e+10     328725740.0  6.887572e+09  8.167878e+09  \n",
      "3.362695e+10             NaN           NaN  5.305448e+09  \n",
      "3.362708e+10             NaN           NaN  5.117791e+09  \n",
      "3.365836e+10             NaN           NaN  5.013651e+09  \n",
      "3.365849e+10             NaN           NaN           NaN  \n",
      "3.365973e+10     399519079.0  6.725559e+09  6.317415e+09  \n",
      "3.366471e+10             NaN  6.103856e+09           NaN  \n",
      "3.366546e+10             NaN           NaN           NaN  \n",
      "3.366646e+10             NaN  6.646303e+09           NaN  \n",
      "3.366716e+10     313939488.0           NaN           NaN  \n",
      "3.366907e+10             NaN           NaN           NaN  \n",
      "3.367588e+10     309093159.0  6.970568e+09  6.798515e+09  \n",
      "3.369876e+10             NaN           NaN           NaN  \n",
      "3.369879e+10             NaN  5.753743e+09           NaN  \n",
      "3.376041e+10     318347546.0  6.268620e+09           NaN  \n",
      "3.376054e+10     334643269.0  7.461045e+09           NaN  \n",
      "3.376127e+10     292091341.0           NaN  5.077779e+09  \n",
      "3.378632e+10     305939790.0           NaN           NaN  \n"
     ]
    }
   ],
   "source": [
    "# Top 10 users per app\n",
    "top_users_per_app = app_traffic_df.apply(lambda col: col.sort_values(ascending=False).head(10))\n",
    "print(\"\\nTop 10 Users per Application:\")\n",
    "print(top_users_per_app)\n"
   ]
  },
  {
   "cell_type": "code",
   "execution_count": 31,
   "id": "f5d5c804-7838-4300-bbbd-36013338428c",
   "metadata": {},
   "outputs": [
    {
     "data": {
      "image/png": "[encoded data removed]",
      "text/plain": [
       "<Figure size 1000x600 with 1 Axes>"
      ]
     },
     "metadata": {},
     "output_type": "display_data"
    }
   ],
   "source": [
    "# Top 3 most used applications\n",
    "top_apps = app_traffic_df.sum().sort_values(ascending=False).head(3)\n",
    "plt.figure(figsize=(10, 6))\n",
    "sns.barplot(x=top_apps.index, y=top_apps.values)\n",
    "plt.title('Top 3 Most Used Applications')\n",
    "plt.ylabel('Total Traffic (Bytes)')\n",
    "plt.xlabel('Application')\n",
    "plt.show()"
   ]
  },
  {
   "cell_type": "code",
   "execution_count": 32,
   "id": "1fe70956-d67c-400d-944e-0fc1d142e326",
   "metadata": {},
   "outputs": [
    {
     "data": {
      "image/png": "[encoded data removed]",
      "text/plain": [
       "<Figure size 800x500 with 1 Axes>"
      ]
     },
     "metadata": {},
     "output_type": "display_data"
    }
   ],
   "source": [
    "# Elbow method to find optimal k\n",
    "inertias = []\n",
    "K_range = range(1, 10)\n",
    "for k in K_range:\n",
    "    kmeans = KMeans(n_clusters=k, random_state=42)\n",
    "    kmeans.fit(scaler.fit_transform(agg_df[['session_count', 'total_duration', 'total_traffic']]))\n",
    "    inertias.append(kmeans.inertia_)\n",
    "\n",
    "plt.figure(figsize=(8, 5))\n",
    "plt.plot(K_range, inertias, marker='o')\n",
    "plt.title('Elbow Method For Optimal k')\n",
    "plt.xlabel('Number of Clusters')\n",
    "plt.ylabel('Inertia')\n",
    "plt.xticks(K_range)\n",
    "plt.grid(True)\n",
    "plt.show()"
   ]
  },
  {
   "cell_type": "code",
   "execution_count": 33,
   "id": "905d2edd-6c68-4921-a1b4-d81851099099",
   "metadata": {},
   "outputs": [],
   "source": [
    "import logging\n",
    "\n",
    "# Configure logging\n",
    "logging.basicConfig(\n",
    "    level=logging.INFO,\n",
    "    format='%(asctime)s - %(levelname)s - %(message)s',\n",
    "    handlers=[\n",
    "        logging.FileHandler(\"telcom_analysis.log\"), \n",
    "        logging.StreamHandler()\n",
    "    ]\n",
    ")\n",
    "\n",
    "logger = logging.getLogger(__name__)"
   ]
  },
  {
   "cell_type": "code",
   "execution_count": 34,
   "id": "592a115b-aa1c-419c-bd97-52846c5e9890",
   "metadata": {},
   "outputs": [
    {
     "name": "stderr",
     "output_type": "stream",
     "text": [
      "2025-09-20 12:57:12,816 - INFO - Loading dataset...\n",
      "2025-09-20 12:57:13,478 - INFO - Dataset loaded.\n",
      "2025-09-20 12:57:13,480 - INFO - Converted Dur_(ms) to numeric.\n",
      "2025-09-20 12:57:13,483 - INFO - Converted Total_DL_(Bytes) to numeric.\n",
      "2025-09-20 12:57:13,484 - INFO - Converted Total_UL_(Bytes) to numeric.\n",
      "2025-09-20 12:57:13,486 - INFO - Aggregating data by MSISDN...\n",
      "2025-09-20 12:57:13,509 - INFO - Aggregation complete.\n",
      "2025-09-20 12:57:13,509 - INFO - Starting KMeans clustering...\n",
      "2025-09-20 12:57:13,563 - INFO - Clustering done.\n",
      "2025-09-20 12:57:13,564 - INFO - Cluster counts:\n",
      "cluster\n",
      "2    81700\n",
      "0    21159\n",
      "1     3997\n",
      "Name: count, dtype: int64\n",
      "2025-09-20 12:57:13,565 - INFO - Script finished successfully.\n"
     ]
    }
   ],
   "source": [
    "import logging\n",
    "\n",
    "# Simple logger setup\n",
    "logging.basicConfig(level=logging.INFO, format='%(levelname)s: %(message)s')\n",
    "logger = logging.getLogger()\n",
    "\n",
    "logger.info(\"Loading dataset...\")\n",
    "df = pd.read_csv('telcom_data.csv')\n",
    "logger.info(\"Dataset loaded.\")\n",
    "\n",
    "# Clean column names\n",
    "df.columns = [col.strip().replace(' ', '_').replace('.', '') for col in df.columns]\n",
    "\n",
    "# Convert columns\n",
    "for col in ['Dur_(ms)', 'Total_DL_(Bytes)', 'Total_UL_(Bytes)']:\n",
    "    df[col] = pd.to_numeric(df[col], errors='coerce')\n",
    "    logger.info(f\"Converted {col} to numeric.\")\n",
    "\n",
    "# Aggregate\n",
    "logger.info(\"Aggregating data by MSISDN...\")\n",
    "agg_df = df.groupby('MSISDN/Number').agg({\n",
    "    'Bearer_Id': 'count',\n",
    "    'Dur_(ms)': 'sum',\n",
    "    'Total_DL_(Bytes)': 'sum',\n",
    "    'Total_UL_(Bytes)': 'sum'\n",
    "}).rename(columns={\n",
    "    'Bearer_Id': 'session_count',\n",
    "    'Dur_(ms)': 'total_duration',\n",
    "    'Total_DL_(Bytes)': 'total_download',\n",
    "    'Total_UL_(Bytes)': 'total_upload'\n",
    "})\n",
    "agg_df['total_traffic'] = agg_df['total_download'] + agg_df['total_upload']\n",
    "logger.info(\"Aggregation complete.\")\n",
    "\n",
    "# Clustering\n",
    "logger.info(\"Starting KMeans clustering...\")\n",
    "scaler = MinMaxScaler()\n",
    "scaled = scaler.fit_transform(agg_df[['session_count', 'total_duration', 'total_traffic']])\n",
    "kmeans = KMeans(n_clusters=3, random_state=42)\n",
    "agg_df['cluster'] = kmeans.fit_predict(scaled)\n",
    "logger.info(\"Clustering done.\")\n",
    "\n",
    "# Summary\n",
    "logger.info(f\"Cluster counts:\\n{agg_df['cluster'].value_counts()}\")\n",
    "\n",
    "# Done\n",
    "logger.info(\"Script finished successfully.\")\n"
   ]
  },
  {
   "cell_type": "code",
   "execution_count": null,
   "id": "6dfc6c4b-cc71-40a3-9183-28800ae2ba89",
   "metadata": {},
   "outputs": [],
   "source": []
  },
  {
   "cell_type": "code",
   "execution_count": null,
   "id": "58d805b9-27cf-4da2-b4f1-89d9dd753b72",
   "metadata": {},
   "outputs": [],
   "source": []
  }
 ],
 "metadata": {
  "kernelspec": {
   "display_name": "Python 3 (ipykernel)",
   "language": "python",
   "name": "python3"
  },
  "language_info": {
   "codemirror_mode": {
    "name": "ipython",
    "version": 3
   },
   "file_extension": ".py",
   "mimetype": "text/x-python",
   "name": "python",
   "nbconvert_exporter": "python",
   "pygments_lexer": "ipython3",
   "version": "3.12.7"
  }
 },
 "nbformat": 4,
 "nbformat_minor": 5
}
